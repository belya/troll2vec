{
 "cells": [
  {
   "cell_type": "code",
   "execution_count": 3,
   "metadata": {},
   "outputs": [],
   "source": [
    "import json"
   ]
  },
  {
   "cell_type": "code",
   "execution_count": 5,
   "metadata": {},
   "outputs": [],
   "source": [
    "import requests"
   ]
  },
  {
   "cell_type": "code",
   "execution_count": 22,
   "metadata": {},
   "outputs": [],
   "source": [
    "import pandas as pd"
   ]
  },
  {
   "cell_type": "code",
   "execution_count": 7,
   "metadata": {},
   "outputs": [],
   "source": [
    "examples = json.load(open(\"./examples.json\"))"
   ]
  },
  {
   "cell_type": "code",
   "execution_count": 10,
   "metadata": {},
   "outputs": [],
   "source": [
    "examples_with_ids = {\"comment_{}\".format(i): v for i, v in enumerate(examples.keys())}"
   ]
  },
  {
   "cell_type": "code",
   "execution_count": 19,
   "metadata": {},
   "outputs": [],
   "source": [
    "response = requests.post(\"http://localhost:5000/api\", data=json.dumps(examples_with_ids)).json()"
   ]
  },
  {
   "cell_type": "code",
   "execution_count": 25,
   "metadata": {},
   "outputs": [],
   "source": [
    "toxic_df = pd.DataFrame()\n",
    "toxic_df[\"id\"] = examples_with_ids.keys()\n",
    "toxic_df = toxic_df.set_index(\"id\")"
   ]
  },
  {
   "cell_type": "code",
   "execution_count": 29,
   "metadata": {},
   "outputs": [],
   "source": [
    "toxic_df[\"text\"] = [examples_with_ids[x] for x in toxic_df.index]"
   ]
  },
  {
   "cell_type": "code",
   "execution_count": 31,
   "metadata": {},
   "outputs": [],
   "source": [
    "toxic_df[\"type\"] = [examples[x] for x in toxic_df[\"text\"]]"
   ]
  },
  {
   "cell_type": "code",
   "execution_count": 35,
   "metadata": {},
   "outputs": [],
   "source": [
    "toxic_df[\"toxicity\"] = [response[x] for x in toxic_df.index]"
   ]
  },
  {
   "cell_type": "code",
   "execution_count": 39,
   "metadata": {},
   "outputs": [
    {
     "data": {
      "text/plain": [
       "type\n",
       "сквернословие                                   0.588290\n",
       "провокации секс меньшинств                      0.554469\n",
       "национальные                                    0.375365\n",
       "угроза                                          0.327663\n",
       "религиозные провокации                          0.315967\n",
       "подстрекательство к убийству                    0.301355\n",
       "подстрекательство к самоубийству                0.276651\n",
       "оскорбление пользователей                       0.273569\n",
       "оскорбление политиков                           0.222839\n",
       "подстрекательство к насилию                     0.203287\n",
       "культурные провокации                           0.165808\n",
       "подстрекательство к терроризму                  0.163196\n",
       "оскорбление администраторов                     0.152937\n",
       "подстрекательство к войне                       0.098911\n",
       "клевета                                         0.094852\n",
       "подстрекательство к противоправным действиям    0.066154\n",
       "расовые провокации                              0.032146\n",
       "незаконные                                      0.000144\n",
       "Name: toxicity, dtype: float64"
      ]
     },
     "execution_count": 39,
     "metadata": {},
     "output_type": "execute_result"
    }
   ],
   "source": [
    "toxic_df.groupby(\"type\")[\"toxicity\"].mean().sort_values(ascending=False)"
   ]
  }
 ],
 "metadata": {
  "kernelspec": {
   "display_name": "Python 3",
   "language": "python",
   "name": "python3"
  },
  "language_info": {
   "codemirror_mode": {
    "name": "ipython",
    "version": 3
   },
   "file_extension": ".py",
   "mimetype": "text/x-python",
   "name": "python",
   "nbconvert_exporter": "python",
   "pygments_lexer": "ipython3",
   "version": "3.5.2"
  }
 },
 "nbformat": 4,
 "nbformat_minor": 2
}
