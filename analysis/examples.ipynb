{
 "cells": [
  {
   "cell_type": "code",
   "execution_count": 3,
   "metadata": {},
   "outputs": [],
   "source": [
    "import json"
   ]
  },
  {
   "cell_type": "code",
   "execution_count": 5,
   "metadata": {},
   "outputs": [],
   "source": [
    "import requests"
   ]
  },
  {
   "cell_type": "code",
   "execution_count": 22,
   "metadata": {},
   "outputs": [],
   "source": [
    "import pandas as pd"
   ]
  },
  {
   "cell_type": "code",
   "execution_count": 7,
   "metadata": {},
   "outputs": [],
   "source": [
    "examples = json.load(open(\"./examples.json\"))"
   ]
  },
  {
   "cell_type": "code",
   "execution_count": 10,
   "metadata": {},
   "outputs": [],
   "source": [
    "examples_with_ids = {\"comment_{}\".format(i): v for i, v in enumerate(examples.keys())}"
   ]
  },
  {
   "cell_type": "code",
   "execution_count": 19,
   "metadata": {},
   "outputs": [],
   "source": [
    "response = requests.post(\"http://localhost:5000/api\", data=json.dumps(examples_with_ids)).json()"
   ]
  },
  {
   "cell_type": "code",
   "execution_count": 25,
   "metadata": {},
   "outputs": [],
   "source": [
    "toxic_df = pd.DataFrame()\n",
    "toxic_df[\"id\"] = examples_with_ids.keys()\n",
    "toxic_df = toxic_df.set_index(\"id\")"
   ]
  },
  {
   "cell_type": "code",
   "execution_count": 29,
   "metadata": {},
   "outputs": [],
   "source": [
    "toxic_df[\"text\"] = [examples_with_ids[x] for x in toxic_df.index]"
   ]
  },
  {
   "cell_type": "code",
   "execution_count": 31,
   "metadata": {},
   "outputs": [],
   "source": [
    "toxic_df[\"type\"] = [examples[x] for x in toxic_df[\"text\"]]"
   ]
  },
  {
   "cell_type": "code",
   "execution_count": 35,
   "metadata": {},
   "outputs": [],
   "source": [
    "toxic_df[\"toxicity\"] = [response[x] for x in toxic_df.index]"
   ]
  },
  {
   "cell_type": "code",
   "execution_count": 39,
   "metadata": {},
   "outputs": [
    {
     "data": {
      "text/plain": [
       "type\n",
       "сквернословие                                   0.588290\n",
       "провокации секс меньшинств                      0.554469\n",
       "национальные                                    0.375365\n",
       "угроза                                          0.327663\n",
       "религиозные провокации                          0.315967\n",
       "подстрекательство к убийству                    0.301355\n",
       "подстрекательство к самоубийству                0.276651\n",
       "оскорбление пользователей                       0.273569\n",
       "оскорбление политиков                           0.222839\n",
       "подстрекательство к насилию                     0.203287\n",
       "культурные провокации                           0.165808\n",
       "подстрекательство к терроризму                  0.163196\n",
       "оскорбление администраторов                     0.152937\n",
       "подстрекательство к войне                       0.098911\n",
       "клевета                                         0.094852\n",
       "подстрекательство к противоправным действиям    0.066154\n",
       "расовые провокации                              0.032146\n",
       "незаконные                                      0.000144\n",
       "Name: toxicity, dtype: float64"
      ]
     },
     "execution_count": 39,
     "metadata": {},
     "output_type": "execute_result"
    }
   ],
   "source": [
    "toxic_df.groupby(\"type\")[\"toxicity\"].mean().sort_values(ascending=False)"
   ]
  },
  {
   "cell_type": "code",
   "execution_count": 43,
   "metadata": {},
   "outputs": [
    {
     "data": {
      "text/html": [
       "<div>\n",
       "<style scoped>\n",
       "    .dataframe tbody tr th:only-of-type {\n",
       "        vertical-align: middle;\n",
       "    }\n",
       "\n",
       "    .dataframe tbody tr th {\n",
       "        vertical-align: top;\n",
       "    }\n",
       "\n",
       "    .dataframe thead th {\n",
       "        text-align: right;\n",
       "    }\n",
       "</style>\n",
       "<table border=\"1\" class=\"dataframe\">\n",
       "  <thead>\n",
       "    <tr style=\"text-align: right;\">\n",
       "      <th></th>\n",
       "      <th>text</th>\n",
       "      <th>type</th>\n",
       "      <th>toxicity</th>\n",
       "    </tr>\n",
       "    <tr>\n",
       "      <th>id</th>\n",
       "      <th></th>\n",
       "      <th></th>\n",
       "      <th></th>\n",
       "    </tr>\n",
       "  </thead>\n",
       "  <tbody>\n",
       "    <tr>\n",
       "      <th>comment_77</th>\n",
       "      <td>ходи аккуратнее в магазин, иногда люди не возр...</td>\n",
       "      <td>угроза</td>\n",
       "      <td>0.000163</td>\n",
       "    </tr>\n",
       "    <tr>\n",
       "      <th>comment_79</th>\n",
       "      <td>Слушай, если ты продолжишь на меня пиздеть, я ...</td>\n",
       "      <td>угроза</td>\n",
       "      <td>0.865497</td>\n",
       "    </tr>\n",
       "    <tr>\n",
       "      <th>comment_111</th>\n",
       "      <td>вычислю и лицо разобью</td>\n",
       "      <td>угроза</td>\n",
       "      <td>0.530369</td>\n",
       "    </tr>\n",
       "    <tr>\n",
       "      <th>comment_26</th>\n",
       "      <td>если не согласишься, то выебу</td>\n",
       "      <td>угроза</td>\n",
       "      <td>0.384476</td>\n",
       "    </tr>\n",
       "    <tr>\n",
       "      <th>comment_81</th>\n",
       "      <td>по ip вычислю</td>\n",
       "      <td>угроза</td>\n",
       "      <td>0.006780</td>\n",
       "    </tr>\n",
       "    <tr>\n",
       "      <th>comment_60</th>\n",
       "      <td>набью тебе ебасос</td>\n",
       "      <td>угроза</td>\n",
       "      <td>0.025562</td>\n",
       "    </tr>\n",
       "    <tr>\n",
       "      <th>comment_99</th>\n",
       "      <td>я тебя ножиком почикаю</td>\n",
       "      <td>угроза</td>\n",
       "      <td>0.012101</td>\n",
       "    </tr>\n",
       "    <tr>\n",
       "      <th>comment_34</th>\n",
       "      <td>приду у тебе домой и убью твою собаку</td>\n",
       "      <td>угроза</td>\n",
       "      <td>0.912933</td>\n",
       "    </tr>\n",
       "    <tr>\n",
       "      <th>comment_2</th>\n",
       "      <td>в подвале закрою</td>\n",
       "      <td>угроза</td>\n",
       "      <td>0.211084</td>\n",
       "    </tr>\n",
       "  </tbody>\n",
       "</table>\n",
       "</div>"
      ],
      "text/plain": [
       "                                                          text    type  \\\n",
       "id                                                                       \n",
       "comment_77   ходи аккуратнее в магазин, иногда люди не возр...  угроза   \n",
       "comment_79   Слушай, если ты продолжишь на меня пиздеть, я ...  угроза   \n",
       "comment_111                             вычислю и лицо разобью  угроза   \n",
       "comment_26                       если не согласишься, то выебу  угроза   \n",
       "comment_81                                       по ip вычислю  угроза   \n",
       "comment_60                                   набью тебе ебасос  угроза   \n",
       "comment_99                              я тебя ножиком почикаю  угроза   \n",
       "comment_34               приду у тебе домой и убью твою собаку  угроза   \n",
       "comment_2                                     в подвале закрою  угроза   \n",
       "\n",
       "             toxicity  \n",
       "id                     \n",
       "comment_77   0.000163  \n",
       "comment_79   0.865497  \n",
       "comment_111  0.530369  \n",
       "comment_26   0.384476  \n",
       "comment_81   0.006780  \n",
       "comment_60   0.025562  \n",
       "comment_99   0.012101  \n",
       "comment_34   0.912933  \n",
       "comment_2    0.211084  "
      ]
     },
     "execution_count": 43,
     "metadata": {},
     "output_type": "execute_result"
    }
   ],
   "source": [
    "toxic_df[toxic_df[\"type\"] == \"угроза\"]"
   ]
  }
 ],
 "metadata": {
  "kernelspec": {
   "display_name": "Python 3",
   "language": "python",
   "name": "python3"
  },
  "language_info": {
   "codemirror_mode": {
    "name": "ipython",
    "version": 3
   },
   "file_extension": ".py",
   "mimetype": "text/x-python",
   "name": "python",
   "nbconvert_exporter": "python",
   "pygments_lexer": "ipython3",
   "version": "3.5.2"
  }
 },
 "nbformat": 4,
 "nbformat_minor": 2
}
