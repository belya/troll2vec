{
 "cells": [
  {
   "cell_type": "code",
   "execution_count": 1,
   "metadata": {},
   "outputs": [],
   "source": [
    "import json\n",
    "import pandas as pd"
   ]
  },
  {
   "cell_type": "code",
   "execution_count": 2,
   "metadata": {},
   "outputs": [],
   "source": [
    "from tqdm import tqdm_notebook"
   ]
  },
  {
   "cell_type": "code",
   "execution_count": 3,
   "metadata": {},
   "outputs": [],
   "source": [
    "from gensim.models.word2vec import Word2Vec"
   ]
  },
  {
   "cell_type": "code",
   "execution_count": 4,
   "metadata": {},
   "outputs": [],
   "source": [
    "pikabu_comments_df = pd.read_csv(\"pikabu/prepared_dataset.csv\")"
   ]
  },
  {
   "cell_type": "code",
   "execution_count": 5,
   "metadata": {},
   "outputs": [],
   "source": [
    "dvach_comments_df = pd.read_csv(\"2ch/posts_2ch_lemmatized.csv\")"
   ]
  },
  {
   "cell_type": "code",
   "execution_count": 6,
   "metadata": {},
   "outputs": [],
   "source": [
    "texts = pikabu_comments_df[\"normalized_post\"].tolist() + dvach_comments_df[\"preprocessed_text\"].tolist()"
   ]
  },
  {
   "cell_type": "code",
   "execution_count": 7,
   "metadata": {},
   "outputs": [
    {
     "data": {
      "application/vnd.jupyter.widget-view+json": {
       "model_id": "9a4fd3c7e481463da9fd264f92fd60a9",
       "version_major": 2,
       "version_minor": 0
      },
      "text/plain": [
       "HBox(children=(IntProgress(value=0, max=2439720), HTML(value='')))"
      ]
     },
     "metadata": {},
     "output_type": "display_data"
    },
    {
     "name": "stdout",
     "output_type": "stream",
     "text": [
      "\n"
     ]
    }
   ],
   "source": [
    "texts_preprocessed = [str(text) for text in texts]\n",
    "texts_preprocessed = [text.split(\" \") for text in tqdm_notebook(texts_preprocessed) if len(text) > 10]"
   ]
  },
  {
   "cell_type": "code",
   "execution_count": 8,
   "metadata": {},
   "outputs": [],
   "source": [
    "del pikabu_comments_df"
   ]
  },
  {
   "cell_type": "code",
   "execution_count": 9,
   "metadata": {},
   "outputs": [],
   "source": [
    "del dvach_comments_df"
   ]
  },
  {
   "cell_type": "code",
   "execution_count": 10,
   "metadata": {},
   "outputs": [],
   "source": [
    "del texts"
   ]
  },
  {
   "cell_type": "code",
   "execution_count": 12,
   "metadata": {},
   "outputs": [],
   "source": [
    "model = Word2Vec(texts_preprocessed, size=50, window=10, min_count=2, workers=3)"
   ]
  },
  {
   "cell_type": "markdown",
   "metadata": {},
   "source": [
    "Национальные провокации"
   ]
  },
  {
   "cell_type": "code",
   "execution_count": 29,
   "metadata": {},
   "outputs": [
    {
     "data": {
      "text/plain": [
       "[('чурка', 0.8990564942359924),\n",
       " ('кавказец', 0.8669800162315369),\n",
       " ('даг', 0.8508922457695007),\n",
       " ('цыган', 0.8457583785057068),\n",
       " ('чечен', 0.8217278122901917),\n",
       " ('наташка', 0.8203504681587219),\n",
       " ('русачок', 0.8101046085357666),\n",
       " ('нигер', 0.8088347315788269),\n",
       " ('азер', 0.8072153925895691),\n",
       " ('казах', 0.8044911623001099)]"
      ]
     },
     "execution_count": 29,
     "metadata": {},
     "output_type": "execute_result"
    }
   ],
   "source": [
    "model.wv.most_similar(\"хач\")"
   ]
  },
  {
   "cell_type": "code",
   "execution_count": 50,
   "metadata": {},
   "outputs": [
    {
     "data": {
      "text/plain": [
       "[('либераст', 0.856995165348053),\n",
       " ('либерах', 0.8563936948776245),\n",
       " ('русофоб', 0.8460331559181213),\n",
       " ('русня', 0.8340081572532654),\n",
       " ('хохол', 0.8144351243972778),\n",
       " ('красножопый', 0.8141463398933411),\n",
       " ('нацик', 0.8135485649108887),\n",
       " ('руснять', 0.8072056174278259),\n",
       " ('ватать', 0.7987968325614929),\n",
       " ('пидорашка', 0.7955480217933655)]"
      ]
     },
     "execution_count": 50,
     "metadata": {},
     "output_type": "execute_result"
    }
   ],
   "source": [
    "model.wv.most_similar(positive=[\"ватник\", \"украина\"], negative=[\"россия\"])"
   ]
  },
  {
   "cell_type": "markdown",
   "metadata": {},
   "source": [
    "Провокации секс меньшинств"
   ]
  },
  {
   "cell_type": "code",
   "execution_count": 33,
   "metadata": {},
   "outputs": [
    {
     "data": {
      "text/plain": [
       "[('гомосек', 0.8828839063644409),\n",
       " ('сексист', 0.8696330189704895),\n",
       " ('гомофоб', 0.8532140254974365),\n",
       " ('педераст', 0.8424866795539856),\n",
       " ('феминистка', 0.8384721279144287),\n",
       " ('латентный', 0.8383186459541321),\n",
       " ('зоофил', 0.8322874307632446),\n",
       " ('сойбой', 0.8314400315284729),\n",
       " ('пидорка', 0.8304884433746338),\n",
       " ('фемок', 0.830340564250946)]"
      ]
     },
     "execution_count": 33,
     "metadata": {},
     "output_type": "execute_result"
    }
   ],
   "source": [
    "model.wv.most_similar(\"гомик\")"
   ]
  },
  {
   "cell_type": "code",
   "execution_count": 37,
   "metadata": {},
   "outputs": [
    {
     "data": {
      "text/plain": [
       "[('куколда', 0.7652098536491394),\n",
       " ('пидар', 0.7240245342254639),\n",
       " ('шлюха', 0.7161043882369995),\n",
       " ('пидорас', 0.69967120885849),\n",
       " ('куколд', 0.6937837600708008),\n",
       " ('гнида', 0.6913321018218994),\n",
       " ('мразь', 0.6870542764663696),\n",
       " ('членодевка', 0.6869161128997803),\n",
       " ('латентный', 0.6849011778831482),\n",
       " ('хуемразь', 0.6785920858383179)]"
      ]
     },
     "execution_count": 37,
     "metadata": {},
     "output_type": "execute_result"
    }
   ],
   "source": [
    "model.wv.most_similar(positive=[\"пидор\", \"девушка\"], negative=[\"парень\"])"
   ]
  },
  {
   "cell_type": "markdown",
   "metadata": {},
   "source": [
    "Культурные и религиозные провокации"
   ]
  },
  {
   "cell_type": "code",
   "execution_count": 48,
   "metadata": {},
   "outputs": [
    {
     "data": {
      "text/plain": [
       "[('веруны', 0.8618420958518982),\n",
       " ('риноблядь', 0.8386478424072266),\n",
       " ('демагог', 0.824432909488678),\n",
       " ('обиженка', 0.815499484539032),\n",
       " ('унтерменша', 0.8110529184341431),\n",
       " ('промыток', 0.8100584745407104),\n",
       " ('лицемер', 0.8092280626296997),\n",
       " ('опущенец', 0.7991775870323181),\n",
       " ('чмонь', 0.7980675101280212),\n",
       " ('мракобес', 0.7953596711158752)]"
      ]
     },
     "execution_count": 48,
     "metadata": {},
     "output_type": "execute_result"
    }
   ],
   "source": [
    "model.wv.most_similar(\"верун\")"
   ]
  },
  {
   "cell_type": "code",
   "execution_count": 47,
   "metadata": {},
   "outputs": [
    {
     "data": {
      "text/plain": [
       "[('кяфир', 0.7875678539276123),\n",
       " ('псиный', 0.7783440947532654),\n",
       " ('умалишенный', 0.762493371963501),\n",
       " ('либерашки', 0.7611172199249268),\n",
       " ('пидорасин', 0.7593836188316345),\n",
       " ('хачевский', 0.759104311466217),\n",
       " ('метросексуальный', 0.7570981979370117),\n",
       " ('чистюля', 0.7560998797416687),\n",
       " ('автодекс', 0.7545812129974365),\n",
       " ('вольноторговый', 0.7533012628555298)]"
      ]
     },
     "execution_count": 47,
     "metadata": {},
     "output_type": "execute_result"
    }
   ],
   "source": [
    "model.wv.most_similar(positive=[\"верун\", \"ислам\"], negative=[\"христианство\"])"
   ]
  },
  {
   "cell_type": "code",
   "execution_count": 13,
   "metadata": {},
   "outputs": [],
   "source": [
    "model.save(\"50features_2minwords_10context\")"
   ]
  }
 ],
 "metadata": {
  "kernelspec": {
   "display_name": "Python 3",
   "language": "python",
   "name": "python3"
  },
  "language_info": {
   "codemirror_mode": {
    "name": "ipython",
    "version": 3
   },
   "file_extension": ".py",
   "mimetype": "text/x-python",
   "name": "python",
   "nbconvert_exporter": "python",
   "pygments_lexer": "ipython3",
   "version": "3.5.2"
  }
 },
 "nbformat": 4,
 "nbformat_minor": 2
}
